{
 "cells": [
  {
   "cell_type": "code",
   "execution_count": null,
   "id": "2a76ffa0-ba5e-4e3f-993c-7cc54e8f4a39",
   "metadata": {},
   "outputs": [],
   "source": [
    "import pandas as pd"
   ]
  },
  {
   "cell_type": "code",
   "execution_count": null,
   "id": "4afeb50c-4ff8-4cac-a4e7-5e62f13d5a56",
   "metadata": {},
   "outputs": [],
   "source": [
    "data_path = \"Online Retail.xlsx\"\n",
    "\n",
    "\n",
    "def import_data(filename: str) -> pd.DataFrame:\n",
    "    return pd.read_excel(data_path)\n",
    "data = import_data('data_path')\n",
    "data.head()"
   ]
  },
  {
   "cell_type": "code",
   "execution_count": null,
   "id": "85ca7f01-268b-42d0-8d37-b06d76d396ef",
   "metadata": {},
   "outputs": [],
   "source": [
    "def filter_data(df: pd.DataFrame) -> pd.DataFrame:\n",
    "    filter1 = df['CustomerID'].isna()\n",
    "    filter2 = df['Quantity'] < 0\n",
    "    filter3 = df['UnitPrice'] < 0\n",
    "    filtered_df = df[~filter2  & ~filter2 & ~filter3]\n",
    "    return filtered_df\n",
    "df = filter_data(data)\n",
    "df.head()\n"
   ]
  },
  {
   "cell_type": "code",
   "execution_count": null,
   "id": "4fa2d482-db15-4408-ba23-b5809339aadd",
   "metadata": {},
   "outputs": [],
   "source": [
    "def loyalty_customers(df: pd.DataFrame, min_purchases: int) -> pd.DataFrame:\n",
    "    cleaned_data  = filter_data(df)\n",
    "    cusomer_n_purchues = cleaned_data.groupby('CustomerID')['InvoiceNo'].nunique().reset_index()\n",
    "    filter1 = cusomer_n_purchues['InvoiceNo'] < min_purchases\n",
    "    filtered_data = cusomer_n_purchues[~filter1]\n",
    "    return filtered_data"
   ]
  },
  {
   "cell_type": "code",
   "execution_count": null,
   "id": "c403038e-81af-4ead-9ba3-3946ab5b6b6e",
   "metadata": {},
   "outputs": [],
   "source": [
    "def quarterly_revenue(df: pd.DataFrame) -> pd.DataFrame:\n",
    "    df['quarter'] = df['InvoiceDate'].dt.to_period('Q')\n",
    "    df['total_revenue'] = df['UnitPrice']*df['Quantity'] \n",
    "    return df.groupby('quarter')['total_revenue'].sum().reset_index()\n",
    "qq= quarterly_revenue(data)\n",
    "qq.head(90000)"
   ]
  },
  {
   "cell_type": "code",
   "execution_count": null,
   "id": "3d61eda8-b522-4414-866c-2bbb3fbd8123",
   "metadata": {},
   "outputs": [],
   "source": [
    "def high_demand_products(df: pd.DataFrame, top_n: int) -> pd.DataFrame:\n",
    "    cleaned_data  = filter_data(df)\n",
    "    cleaned_data = cleaned_data.groupby('StockCode')['Quantity'].sum().reset_index()\n",
    "    return cleaned_data.nlargest(top_n, 'Quantity')\n",
    "\n",
    "hh= high_demand_products(data, 5)\n",
    "hh.head(5)\n",
    "    \n",
    "    "
   ]
  },
  {
   "cell_type": "code",
   "execution_count": null,
   "id": "f6f441d5-223f-4b75-bc26-118408ebf0c3",
   "metadata": {},
   "outputs": [],
   "source": [
    "print(hh.shape)"
   ]
  },
  {
   "cell_type": "code",
   "execution_count": null,
   "id": "bd02e1a0-5aae-497b-9961-164196dffbe3",
   "metadata": {},
   "outputs": [],
   "source": [
    "def purchase_patterns(df: pd.DataFrame) -> pd.DataFrame:\n",
    "    summary = df.groupby('StockCode').agg(\n",
    "        avg_quantity=('Quantity', 'mean'),\n",
    "        avg_unit_price=('UnitPrice', 'mean')\n",
    "    ).reset_index()\n",
    "    \n",
    "    # Rename 'StockCode' to 'product'\n",
    "    summary.rename(columns={'StockCode': 'product'}, inplace=True)\n",
    "    \n",
    "    return summary\n",
    "pp = purchase_patterns(data)\n",
    "pp.head()"
   ]
  },
  {
   "cell_type": "code",
   "execution_count": null,
   "id": "4f0769c2-87b3-43c0-aced-6511642c46c6",
   "metadata": {},
   "outputs": [],
   "source": []
  }
 ],
 "metadata": {
  "kernelspec": {
   "display_name": "ds-venv",
   "language": "python",
   "name": "ds-venv"
  },
  "language_info": {
   "codemirror_mode": {
    "name": "ipython",
    "version": 3
   },
   "file_extension": ".py",
   "mimetype": "text/x-python",
   "name": "python",
   "nbconvert_exporter": "python",
   "pygments_lexer": "ipython3",
   "version": "3.12.6"
  }
 },
 "nbformat": 4,
 "nbformat_minor": 5
}
